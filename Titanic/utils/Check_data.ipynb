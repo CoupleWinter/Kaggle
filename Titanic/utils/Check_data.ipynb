{
 "cells": [
  {
   "cell_type": "code",
   "execution_count": null,
   "metadata": {
    "collapsed": true
   },
   "outputs": [],
   "source": [
    "# coding : utf-8\n",
    "# Author : Noctis\n",
    "# Date : 2018-3-18\n",
    "\n",
    "from Titanic.utils import *\n",
    "from sklearn.linear_model import LogisticRegression\n",
    "from sklearn.metrics import accuracy_score\n",
    "import pandas as pd\n",
    "import numpy as np\n",
    "import os"
   ]
  },
  {
   "cell_type": "code",
   "execution_count": null,
   "metadata": {},
   "outputs": [],
   "source": [
    "x_train, y_train, train_x, data = GetData.feature_engineering(GetData().train)\n",
    "\n",
    "logistic_model = LogisticRegression(C=1.0, penalty='l1', tol=1e-6)\n",
    "\n",
    "logistic_model.fit(x_train, y_train.ravel())"
   ]
  },
  {
   "cell_type": "code",
   "execution_count": null,
   "metadata": {},
   "outputs": [],
   "source": [
    "# Croess validation\n",
    "print(model_selection.cross_val_score(logistic_model, x_train, y_train, cv=5))"
   ]
  },
  {
   "cell_type": "code",
   "execution_count": null,
   "metadata": {},
   "outputs": [],
   "source": [
    "bad_cases, train_df, cv_df = GetData.cross_validation(x_train, y_train.ravel(), data, logistic_model)\n",
    "# y_pred = logistic_model.predict(x_test)\n",
    "#\n",
    "# print(accuracy_score(y_test, y_pred))"
   ]
  },
  {
   "cell_type": "code",
   "execution_count": null,
   "metadata": {},
   "outputs": [],
   "source": [
    "GetData.trans_model_to_feature(train_x, logistic_model)"
   ]
  },
  {
   "cell_type": "code",
   "execution_count": null,
   "metadata": {},
   "outputs": [],
   "source": [
    "data, x_submission = GetData.feature_engineering_test(GetData().test)"
   ]
  },
  {
   "cell_type": "code",
   "execution_count": null,
   "metadata": {},
   "outputs": [],
   "source": [
    "y_submission = logistic_model.predict(x_submission)"
   ]
  },
  {
   "cell_type": "code",
   "execution_count": null,
   "metadata": {},
   "outputs": [],
   "source": [
    "result = pd.DataFrame(\n",
    "        {'PassengerId': data['PassengerId'].as_matrix(), 'Survived': y_submission.astype(np.int32)})\n",
    "path = os.path.dirname(os.path.abspath(__file__)).split('Titanic')[0] + 'Titanic/data/'\n",
    "result.to_csv(path + 'logistic_regression_predictions.csv', index=False)"
   ]
  }
 ],
 "metadata": {
  "kernelspec": {
   "display_name": "Python 2",
   "language": "python",
   "name": "python2"
  },
  "language_info": {
   "codemirror_mode": {
    "name": "ipython",
    "version": 2
   },
   "file_extension": ".py",
   "mimetype": "text/x-python",
   "name": "python",
   "nbconvert_exporter": "python",
   "pygments_lexer": "ipython2",
   "version": "2.7.6"
  }
 },
 "nbformat": 4,
 "nbformat_minor": 0
}
